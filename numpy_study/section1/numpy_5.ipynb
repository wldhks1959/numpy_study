{
 "cells": [
  {
   "cell_type": "code",
   "execution_count": 1,
   "metadata": {},
   "outputs": [
    {
     "name": "stdout",
     "output_type": "stream",
     "text": [
      "난수 발생1 \n",
      " [0.27477509 0.08609959 0.31761769 0.7415571  0.1221822  0.290283\n",
      " 0.71435595 0.4256544  0.69182136 0.113976  ]\n",
      "난수 발생2 \n",
      " [0.17768399 0.68638102 0.82297631 0.19002302 0.94520936 0.48131018\n",
      " 0.30551853 0.24491267 0.86438548 0.95371052]\n"
     ]
    }
   ],
   "source": [
    "import numpy as np\n",
    "# 시드값을 통한 난수 생성 제어 \n",
    "\n",
    "arr = np.random.rand(10)\n",
    "print(\"난수 발생1 \\n\",arr)\n",
    "\n",
    "\n",
    "arr = np.random.rand(10)\n",
    "print(\"난수 발생2 \\n\",arr)\n"
   ]
  },
  {
   "cell_type": "code",
   "execution_count": 2,
   "metadata": {},
   "outputs": [
    {
     "name": "stdout",
     "output_type": "stream",
     "text": [
      "난수 발생 1\n",
      " [4.17022005e-01 7.20324493e-01 1.14374817e-04 3.02332573e-01\n",
      " 1.46755891e-01 9.23385948e-02 1.86260211e-01 3.45560727e-01\n",
      " 3.96767474e-01 5.38816734e-01]\n",
      "난수 발생 2\n",
      " [4.17022005e-01 7.20324493e-01 1.14374817e-04 3.02332573e-01\n",
      " 1.46755891e-01 9.23385948e-02 1.86260211e-01 3.45560727e-01\n",
      " 3.96767474e-01 5.38816734e-01]\n"
     ]
    }
   ],
   "source": [
    "np.random.seed(1)\n",
    "arr = np.random.rand(10)\n",
    "print(\"난수 발생 1\\n\", arr)\n",
    "\n",
    "np.random.seed(1)\n",
    "arr = np.random.rand(10)\n",
    "print(\"난수 발생 2\\n\", arr)\n"
   ]
  }
 ],
 "metadata": {
  "kernelspec": {
   "display_name": "Python 3",
   "language": "python",
   "name": "python3"
  },
  "language_info": {
   "codemirror_mode": {
    "name": "ipython",
    "version": 3
   },
   "file_extension": ".py",
   "mimetype": "text/x-python",
   "name": "python",
   "nbconvert_exporter": "python",
   "pygments_lexer": "ipython3",
   "version": "3.12.1"
  }
 },
 "nbformat": 4,
 "nbformat_minor": 2
}
