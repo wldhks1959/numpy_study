{
 "cells": [
  {
   "cell_type": "markdown",
   "metadata": {},
   "source": [
    "벡터 연산의 장점"
   ]
  },
  {
   "cell_type": "code",
   "execution_count": 1,
   "metadata": {},
   "outputs": [],
   "source": [
    "import time \n",
    "import numpy as np"
   ]
  },
  {
   "cell_type": "code",
   "execution_count": 5,
   "metadata": {},
   "outputs": [],
   "source": [
    "arr= np.arange(9999999)"
   ]
  },
  {
   "cell_type": "code",
   "execution_count": 7,
   "metadata": {},
   "outputs": [
    {
     "name": "stderr",
     "output_type": "stream",
     "text": [
      "C:\\Users\\gg065\\AppData\\Local\\Temp\\ipykernel_30452\\1358425280.py:5: RuntimeWarning: overflow encountered in scalar add\n",
      "  sum+=i\n"
     ]
    },
    {
     "name": "stdout",
     "output_type": "stream",
     "text": [
      "-2024260031 1.7812495231628418 초\n"
     ]
    }
   ],
   "source": [
    "# for \n",
    "sum = 0\n",
    "before = time.time()\n",
    "for i in arr:\n",
    "    sum+=i\n",
    "after = time.time()\n",
    "print(sum, after-before, \"초\")"
   ]
  },
  {
   "cell_type": "code",
   "execution_count": 8,
   "metadata": {},
   "outputs": [
    {
     "name": "stdout",
     "output_type": "stream",
     "text": [
      "-2024260031 0.007031679153442383 초\n"
     ]
    }
   ],
   "source": [
    "# 벡터 연산 \n",
    "before = time.time()\n",
    "sum = np.sum(arr)\n",
    "after = time.time()\n",
    "print(sum, after-before, \"초\")"
   ]
  },
  {
   "cell_type": "code",
   "execution_count": 9,
   "metadata": {},
   "outputs": [],
   "source": [
    "arr1= np.arange(9999999)\n",
    "arr2= np.arange(9999999)"
   ]
  },
  {
   "cell_type": "code",
   "execution_count": 10,
   "metadata": {},
   "outputs": [
    {
     "name": "stderr",
     "output_type": "stream",
     "text": [
      "C:\\Users\\gg065\\AppData\\Local\\Temp\\ipykernel_30452\\3106840590.py:4: RuntimeWarning: overflow encountered in scalar add\n",
      "  sum+=i*j\n",
      "C:\\Users\\gg065\\AppData\\Local\\Temp\\ipykernel_30452\\3106840590.py:4: RuntimeWarning: overflow encountered in scalar multiply\n",
      "  sum+=i*j\n"
     ]
    },
    {
     "name": "stdout",
     "output_type": "stream",
     "text": [
      "-1295478593 113.73448276519775 초\n"
     ]
    }
   ],
   "source": [
    "sum = 0 \n",
    "beore = time.time()\n",
    "for i,j in zip(arr1,arr2):\n",
    "    sum+=i*j\n",
    "after = time.time()\n",
    "result = after-before\n",
    "print(sum, result, \"초\")"
   ]
  },
  {
   "cell_type": "code",
   "execution_count": 11,
   "metadata": {},
   "outputs": [
    {
     "name": "stdout",
     "output_type": "stream",
     "text": [
      "-1295478593 0.013057231903076172 초\n"
     ]
    }
   ],
   "source": [
    "# 프로덕트 연산 \n",
    "before = time.time()\n",
    "sum = np.dot(arr1,arr2)\n",
    "after = time.time()\n",
    "print(sum, after-before, \"초\")"
   ]
  }
 ],
 "metadata": {
  "kernelspec": {
   "display_name": "Python 3",
   "language": "python",
   "name": "python3"
  },
  "language_info": {
   "codemirror_mode": {
    "name": "ipython",
    "version": 3
   },
   "file_extension": ".py",
   "mimetype": "text/x-python",
   "name": "python",
   "nbconvert_exporter": "python",
   "pygments_lexer": "ipython3",
   "version": "3.12.1"
  }
 },
 "nbformat": 4,
 "nbformat_minor": 2
}
