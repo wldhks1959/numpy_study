{
 "cells": [
  {
   "cell_type": "code",
   "execution_count": 1,
   "metadata": {},
   "outputs": [],
   "source": [
    "import numpy as np"
   ]
  },
  {
   "cell_type": "code",
   "execution_count": 2,
   "metadata": {},
   "outputs": [
    {
     "name": "stdout",
     "output_type": "stream",
     "text": [
      "20\n"
     ]
    }
   ],
   "source": [
    "# n차원 배열 연산법 \n",
    "# 1차원 행렬 \n",
    "arr1 = np.array([2,3,4])\n",
    "arr2 = np.array([1,2,3])\n",
    "\n",
    "print(np.dot(arr1,arr2))\n"
   ]
  },
  {
   "cell_type": "code",
   "execution_count": 3,
   "metadata": {},
   "outputs": [
    {
     "name": "stdout",
     "output_type": "stream",
     "text": [
      "[[ 1  8]\n",
      " [ 4 23]]\n"
     ]
    }
   ],
   "source": [
    "# 2차원 행렬 \n",
    "'''\n",
    "[[a, b], [[e, f]     [[ae + bg  af + bh]\n",
    " [c, d],  [g, h]] =>  [ce + dg, cf + dh]]\n",
    "'''\n",
    "arr1 = np.array([[1, 2], \n",
    "                 [4, 5]])\n",
    "arr2 = np.array([[1, 2], \n",
    "                 [0, 3]])\n",
    "print(np.dot(arr1,arr2))"
   ]
  },
  {
   "cell_type": "code",
   "execution_count": 4,
   "metadata": {},
   "outputs": [
    {
     "name": "stdout",
     "output_type": "stream",
     "text": [
      "[[1 2]\n",
      " [4 5]]\n"
     ]
    }
   ],
   "source": [
    "# 절대값 \n",
    "arr1 = np.array([[1,-2],\n",
    "                 [-4,5]])\n",
    "print(np.abs(arr1))"
   ]
  },
  {
   "cell_type": "code",
   "execution_count": 8,
   "metadata": {},
   "outputs": [
    {
     "name": "stdout",
     "output_type": "stream",
     "text": [
      "[[  2. -23.]\n",
      " [  5.  -5.]]\n",
      "[[  1. -24.]\n",
      " [  4.  -6.]]\n",
      "[[  1. -23.]\n",
      " [  4.  -5.]]\n",
      "[[  1. -23.]\n",
      " [  4.  -5.]]\n"
     ]
    }
   ],
   "source": [
    "# 올림 연산 \n",
    "arr1 = np.array([[1.232,-23.2324],\n",
    "                 [4.123123,-5.12312]])\n",
    "print(np.ceil(arr1))\n",
    "\n",
    "# 내림\n",
    "print(np.floor(arr1))\n",
    "\n",
    "# 반올림 \n",
    "print(np.round(arr1))\n",
    "\n",
    "# 버림 \n",
    "print(np.trunc(arr1))"
   ]
  }
 ],
 "metadata": {
  "kernelspec": {
   "display_name": "Python 3",
   "language": "python",
   "name": "python3"
  },
  "language_info": {
   "codemirror_mode": {
    "name": "ipython",
    "version": 3
   },
   "file_extension": ".py",
   "mimetype": "text/x-python",
   "name": "python",
   "nbconvert_exporter": "python",
   "pygments_lexer": "ipython3",
   "version": "3.12.1"
  }
 },
 "nbformat": 4,
 "nbformat_minor": 2
}
