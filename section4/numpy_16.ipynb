{
 "cells": [
  {
   "cell_type": "code",
   "execution_count": 4,
   "metadata": {},
   "outputs": [],
   "source": [
    "import numpy as np"
   ]
  },
  {
   "cell_type": "code",
   "execution_count": 6,
   "metadata": {},
   "outputs": [
    {
     "name": "stdout",
     "output_type": "stream",
     "text": [
      "[[ 8  9  3 10 12]\n",
      " [12  3  4  3 14]\n",
      " [ 9  6  9  1 12]\n",
      " [ 2 13 13 10 10]]\n"
     ]
    }
   ],
   "source": [
    "# 2차원 배열 \n",
    "arr = np.random.randint(15, size=(4,5))\n",
    "print(arr)"
   ]
  },
  {
   "cell_type": "code",
   "execution_count": 9,
   "metadata": {},
   "outputs": [
    {
     "name": "stdout",
     "output_type": "stream",
     "text": [
      "[[ 3  8  9 10 12]\n",
      " [ 3  3  4 12 14]\n",
      " [ 1  6  9  9 12]\n",
      " [ 2 10 10 13 13]]\n"
     ]
    }
   ],
   "source": [
    "print(np.sort(arr))"
   ]
  },
  {
   "cell_type": "code",
   "execution_count": 11,
   "metadata": {},
   "outputs": [
    {
     "name": "stdout",
     "output_type": "stream",
     "text": [
      "[[ 2  3  3  1 10]\n",
      " [ 8  6  4  3 12]\n",
      " [ 9  9  9 10 12]\n",
      " [12 13 13 10 14]]\n"
     ]
    }
   ],
   "source": [
    "print(np.sort(arr, axis=0))"
   ]
  },
  {
   "cell_type": "code",
   "execution_count": 12,
   "metadata": {},
   "outputs": [
    {
     "name": "stdout",
     "output_type": "stream",
     "text": [
      "[ 1  2  3  3  3  4  6  8  9  9  9 10 10 10 12 12 12 13 13 14]\n"
     ]
    }
   ],
   "source": [
    "print(np.sort(arr, axis=None))"
   ]
  },
  {
   "cell_type": "code",
   "execution_count": null,
   "metadata": {},
   "outputs": [],
   "source": [
    "# argsort() 원소가 정렬되었을 때, 정렬된 원소의 원래 배열에서의 인덱스를 반환을 하게 된다. \n",
    "print(np.sort(arr, axis=1))\n",
    "print(np.argsort(arr, axis=1))\n"
   ]
  }
 ],
 "metadata": {
  "kernelspec": {
   "display_name": "Python 3",
   "language": "python",
   "name": "python3"
  },
  "language_info": {
   "codemirror_mode": {
    "name": "ipython",
    "version": 3
   },
   "file_extension": ".py",
   "mimetype": "text/x-python",
   "name": "python",
   "nbconvert_exporter": "python",
   "pygments_lexer": "ipython3",
   "version": "3.12.1"
  }
 },
 "nbformat": 4,
 "nbformat_minor": 2
}
