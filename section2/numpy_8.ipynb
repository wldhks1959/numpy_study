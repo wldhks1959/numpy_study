{
 "cells": [
  {
   "cell_type": "code",
   "execution_count": 1,
   "metadata": {},
   "outputs": [],
   "source": [
    "import numpy as np\n"
   ]
  },
  {
   "cell_type": "code",
   "execution_count": 3,
   "metadata": {},
   "outputs": [
    {
     "name": "stdout",
     "output_type": "stream",
     "text": [
      "[1 3]\n",
      "[[1 2 3]]\n"
     ]
    }
   ],
   "source": [
    "# 배열의 Boolean 인덱싱 \n",
    "arr = np.array([1,2,3,4])\n",
    "print(arr[[True, False, True, False]])\n",
    "\n",
    "arr = np.array([[1,2,3],\n",
    "                [4,5,6]])\n",
    "print(arr[[True,False],True])"
   ]
  },
  {
   "cell_type": "code",
   "execution_count": 5,
   "metadata": {},
   "outputs": [
    {
     "name": "stdout",
     "output_type": "stream",
     "text": [
      "[4 5 6]\n",
      "[]\n"
     ]
    }
   ],
   "source": [
    "# 조건 연산자를 활용 \n",
    "arr = np.array([[1,2,3],\n",
    "                [4,5,6]])\n",
    "print(arr[arr>3])\n",
    "print(arr[arr<-1])"
   ]
  }
 ],
 "metadata": {
  "kernelspec": {
   "display_name": "Python 3",
   "language": "python",
   "name": "python3"
  },
  "language_info": {
   "codemirror_mode": {
    "name": "ipython",
    "version": 3
   },
   "file_extension": ".py",
   "mimetype": "text/x-python",
   "name": "python",
   "nbconvert_exporter": "python",
   "pygments_lexer": "ipython3",
   "version": "3.12.1"
  }
 },
 "nbformat": 4,
 "nbformat_minor": 2
}
