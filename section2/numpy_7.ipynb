{
 "cells": [
  {
   "cell_type": "code",
   "execution_count": 2,
   "metadata": {},
   "outputs": [],
   "source": [
    "import numpy as np"
   ]
  },
  {
   "cell_type": "code",
   "execution_count": 3,
   "metadata": {},
   "outputs": [
    {
     "name": "stdout",
     "output_type": "stream",
     "text": [
      "[ 5 15 25]\n"
     ]
    }
   ],
   "source": [
    "# Fancy Idexing : 특정 인덱스를 여러 개를 선택해서 탐색하는 방법 \n",
    "# 1차원 배열 \n",
    "arr = np.array([5,10,15,20,25,30])\n",
    "print(arr[[0,2,4]])"
   ]
  },
  {
   "cell_type": "code",
   "execution_count": 7,
   "metadata": {},
   "outputs": [
    {
     "name": "stdout",
     "output_type": "stream",
     "text": [
      "[[15 20 25]\n",
      " [65 70 75]]\n",
      "[[40 45]\n",
      " [65 70]]\n"
     ]
    }
   ],
   "source": [
    "# 2차원 배열 \n",
    "arr = np.array([[5,10,15,20,25],\n",
    "               [30,35,40,45,50],\n",
    "               [55,60,65,70,75]])\n",
    "print(arr[[0,2], 2:])\n",
    "print(arr[1:, [2,3]])"
   ]
  },
  {
   "cell_type": "code",
   "execution_count": null,
   "metadata": {},
   "outputs": [],
   "source": []
  }
 ],
 "metadata": {
  "kernelspec": {
   "display_name": "Python 3",
   "language": "python",
   "name": "python3"
  },
  "language_info": {
   "codemirror_mode": {
    "name": "ipython",
    "version": 3
   },
   "file_extension": ".py",
   "mimetype": "text/x-python",
   "name": "python",
   "nbconvert_exporter": "python",
   "pygments_lexer": "ipython3",
   "version": "3.12.1"
  }
 },
 "nbformat": 4,
 "nbformat_minor": 2
}
